{
 "cells":[
  {
   "cell_type":"code",
   "source":[
    "import numpy as np\n",
    "from scipy.stats import norm\n",
    "\n",
    "# define variables\n",
    "r = 0.01      # risk free rate\n",
    "S = 24.50        # Underlying\n",
    "K = 25.50        # Strike price\n",
    "T = 8\/365   # Time\n",
    "sigma = 0.3691  # Implied vol\n",
    "\n",
    "def blackscholes(r, S, K, T, sigma, type=\"C\"):\n",
    "    \"Calculate BS option price for a call\/put\"\n",
    "    d1 = (np.log(S\/K) + (r+ sigma**2\/2)*T)\/(sigma*np.sqrt(T))\n",
    "    d2 = d1 - sigma*np.sqrt(T)\n",
    "    try:\n",
    "        if type == \"C\":\n",
    "            price = S*norm.cdf(d1, 0, 1) - K*np.exp(-r*T)*norm.cdf(d2, 0, 1)\n",
    "        elif type == \"P\":\n",
    "            price = K*np.exp(-r*T)*norm.cdf(-d2, 0, 1) - S*norm.cdf(-d1, 0, 1)\n",
    "        return price\n",
    "    except:\n",
    "        print(\"Please confirm all option parameters above!\")\n",
    "\n",
    "print(\"Option Price is: \", round(blackscholes(r, S, K, T, sigma, type=\"C\"), 3) )"
   ],
   "execution_count":13,
   "outputs":[
    {
     "name":"stdout",
     "text":[
      "Option Price is:  0.186\n"
     ],
     "output_type":"stream"
    }
   ],
   "metadata":{
    "datalore":{
     "type":"CODE",
     "hide_input_from_viewers":false,
     "hide_output_from_viewers":false
    }
   }
  }
 ],
 "metadata":{
  "datalore":{
   "version":1,
   "computation_mode":"JUPYTER",
   "package_manager":"pip",
   "base_environment":"default",
   "packages":[
    
   ]
  }
 },
 "nbformat":4,
 "nbformat_minor":4
}